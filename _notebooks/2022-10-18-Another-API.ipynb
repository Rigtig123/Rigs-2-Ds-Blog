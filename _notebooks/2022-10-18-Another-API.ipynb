{
 "cells": [
  {
   "cell_type": "markdown",
   "metadata": {},
   "source": [
    "Examples of APIs"
   ]
  },
  {
   "cell_type": "code",
   "execution_count": 1,
   "metadata": {},
   "outputs": [
    {
     "name": "stdout",
     "output_type": "stream",
     "text": [
      "BTC Bitcoin 19319.010248550865\n",
      "ETH Ethereum 1298.5373263339568\n",
      "USDT Tether USD 1.0042914822031264\n",
      "USDC USDC 1.0033426475380618\n",
      "BNB Binance Coin 271.99903725788334\n",
      "XRP XRP 0.4670249588334815\n",
      "BUSD Binance USD 1.0046787901796796\n",
      "ADA Cardano 0.36234791981912234\n",
      "SOL Solana 30.079347713948852\n",
      "DOGE Dogecoin 0.05954176340368893\n",
      "MATIC Polygon 0.8418230219658197\n",
      "DOT Polkadot 6.111645460783446\n",
      "DAI Dai 1.0018636812091348\n",
      "SHIB Shiba Inu 0.000010070780267767\n",
      "TRX TRON 0.06210744215685524\n",
      "WETH Wrapped Ether 1301.448403173206\n",
      "UNI Uniswap 6.474269303096446\n",
      "WBTC Wrapped BTC 19334.29792021206\n",
      "AVAX Avalanche 15.834363139223417\n",
      "CAKE PancakeSwap 4.4521595241644185\n",
      "OKB OKB 16.65450028901999\n",
      "ATOM Cosmos 12.266523398282382\n",
      "LTC Litecoin 51.27956765904166\n",
      "FTT FTX Token 23.50563446495291\n",
      "ETC Ethereum Classic 23.49423351862973\n",
      "XMR Monero 146.68419417150588\n",
      "XLM Stellar 0.11137118902545307\n",
      "ALGO Algorand 0.31825150928458706\n",
      "BTCB Bitcoin BEP2 19419.051868679657\n",
      "CRO Cronos 0.10764922282684228\n",
      "BCH Bitcoin Cash 108.04270318039102\n",
      "WEMIX WEMIX TOKEN 2.003006717281343\n",
      "QNT Quant 195.71054623554437\n",
      "ENS EnergySwap 18.950517432838012\n",
      "NEAR NEAR Protocol 2.929763822112119\n",
      "LUNC Terra Classic 0.000250507699702107\n",
      "HT Huobi Token 7.792767485827178\n",
      "FLOW Flow 1.5146727376138875\n",
      "FIL Filecoin 5.108727276596857\n",
      "VET VeChain 0.022727498272554873\n",
      "HBAR Hedera 0.06164337265531565\n",
      "MANA Decentraland 0.6261628362964291\n",
      "FRAX Frax 1.0021877097270047\n",
      "EGLD Elrond 56.7868482212396\n",
      "ICP Internet Computer (DFINITY) 4.906419137898225\n",
      "XTZ Tezos 1.3619123720360558\n",
      "IMX Immutable X 0.6120427035515059\n",
      "LDO Lido DAO Token 1.4594240484897618\n",
      "SAND The Sandbox 0.7664611182124907\n",
      "AAVE Aave 80.35405565927665\n"
     ]
    }
   ],
   "source": [
    "# RapidAPI page https://rapidapi.com/Coinranking/api/coinranking1/\n",
    "\n",
    "# Begin Rapid API Code\n",
    "import requests\n",
    "\n",
    "url = \"https://coinranking1.p.rapidapi.com/coins\"\n",
    "querystring = {\"referenceCurrencyUuid\":\"yhjMzLPhuIDl\",\"timePeriod\":\"24h\",\"tiers[0]\":\"1\",\"orderBy\":\"marketCap\",\"orderDirection\":\"desc\",\"limit\":\"50\",\"offset\":\"0\"}\n",
    "headers = {\n",
    "\t\"X-RapidAPI-Key\": \"2348020badmshecfd384514830c4p1f8a42jsn72e4bf449cdf\",  # place your key here\n",
    "\t\"X-RapidAPI-Host\": \"coinranking1.p.rapidapi.com\"\n",
    "}\n",
    "\n",
    "response = requests.request(\"GET\", url, headers=headers, params=querystring)\n",
    "#print(response.text),code that was here, and prints data but not organized\n",
    "# End Rapid API Code\n",
    "json = response.json()  # convert response to python json object\n",
    "\n",
    "# Observe data from an API.  This is how data transports over the internet in a \"JSON\" text form\n",
    "# - The JSON \"text\" is formed in dictionary {} and list [] divisions\n",
    "# - To read the result, Data Scientist of  Developer converts JSON into human readable form\n",
    "# - Review the first line, look for the keys --  \"status\" and \"data\"\n",
    "\n",
    "for coin in json[\"data\"][\"coins\"]:\n",
    "\tprint(f'{coin[\"symbol\"]} {coin[\"name\"]} {coin[\"price\"]}')"
   ]
  },
  {
   "cell_type": "code",
   "execution_count": 3,
   "metadata": {},
   "outputs": [
    {
     "name": "stdout",
     "output_type": "stream",
     "text": [
      "<bound method Response.json of <Response [200]>>\n",
      "World Totals\n",
      "total_cases 509,268,964\n",
      "new_cases 204,268\n",
      "total_deaths 6,242,509\n",
      "new_deaths 630\n",
      "total_recovered 461,827,849\n",
      "active_cases 41,198,606\n",
      "serious_critical 42,510\n",
      "total_cases_per_1m_population 65,334\n",
      "deaths_per_1m_population 800.9\n",
      "statistic_taken_at 2022-04-24 11:18:01\n",
      "\n",
      "Country Totals\n",
      "country_name USA\n",
      "cases 82,649,779\n",
      "deaths 1,018,316\n",
      "region \n",
      "total_recovered 80,434,925\n",
      "new_deaths 0\n",
      "new_cases 0\n",
      "serious_critical 1,465\n",
      "active_cases 1,196,538\n",
      "total_cases_per_1m_population 247,080\n",
      "deaths_per_1m_population 3,044\n",
      "total_tests 1,000,275,726\n",
      "tests_per_1m_population 2,990,303\n"
     ]
    }
   ],
   "source": [
    "\"\"\"\n",
    "Requests is a HTTP library for the Python programming language.\n",
    "The goal of the project is to make HTTP requests simpler and more human-friendly.\n",
    "\"\"\"\n",
    " \n",
    "import requests\n",
    " \n",
    "url = \"https://corona-virus-world-and-india-data.p.rapidapi.com/api\"\n",
    " \n",
    "headers = {\n",
    "   \"X-RapidAPI-Key\": \"561be3d3dcmsh26da5c03e252f9fp1d2d4fjsn25f9e92f38d8\",\n",
    "   \"X-RapidAPI-Host\": \"corona-virus-world-and-india-data.p.rapidapi.com\"\n",
    "}\n",
    " \n",
    "response = requests.request(\"GET\", url, headers=headers)\n",
    " \n",
    "print(response.json)\n",
    " \n",
    "# This code looks for \"world data\"\n",
    "print(\"World Totals\")\n",
    "world = response.json().get('world_total')  # turn response to json() so we can extract \"world_total\"\n",
    "for key, value in world.items():  # this finds key, value pairs in country\n",
    "   print(key, value)\n",
    " \n",
    "print()\n",
    " \n",
    "# This code looks for USA in \"countries_stats\"\n",
    "print(\"Country Totals\")\n",
    "countries = response.json().get('countries_stat')\n",
    "for country in countries:  # countries is a list\n",
    "   if country[\"country_name\"] == \"USA\":  # this filters for USA\n",
    "       for key, value in country.items():  # this finds key, value pairs in country\n",
    "           print(key, value)"
   ]
  }
 ],
 "metadata": {
  "kernelspec": {
   "display_name": "Python 3.10.7 64-bit",
   "language": "python",
   "name": "python3"
  },
  "language_info": {
   "codemirror_mode": {
    "name": "ipython",
    "version": 3
   },
   "file_extension": ".py",
   "mimetype": "text/x-python",
   "name": "python",
   "nbconvert_exporter": "python",
   "pygments_lexer": "ipython3",
   "version": "3.10.7"
  },
  "orig_nbformat": 4,
  "vscode": {
   "interpreter": {
    "hash": "aee8b7b246df8f9039afb4144a1f6fd8d2ca17a180786b69acc140d282b71a49"
   }
  }
 },
 "nbformat": 4,
 "nbformat_minor": 2
}
