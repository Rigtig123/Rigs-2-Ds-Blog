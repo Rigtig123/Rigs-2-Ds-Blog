{
 "cells": [
  {
   "cell_type": "markdown",
   "metadata": {},
   "source": [
    "# Vocab and Agile Notes\n",
    "\n",
    "toc: true\n",
    "layout: post\n",
    "description: Vocab to learn\n",
    "categories: [markdown]\n",
    "title: Vocab and Agile Notes\n",
    "\n",
    "Vocab | Definition | \n",
    "-------------  | -------------- |\n",
    "Vocab|\tExplanation|\n",
    "Sequence |\tMore than one line of code|\n",
    "Static Text\t| Text that doesn’t change |\n",
    "Input|Code that is inserted by the user |\n",
    "Output| The response the computer generates from the input|\n",
    "Scrum Master|\tManage scrum board and ensure agile framework is followed track issues and looks for opportunities for team to improve|\n",
    "DevOps|\tCombination of cultural philosophies, practices, and tools that increase a team’s ability to deliver applications and services at high velocity|\n",
    "Frontend Developer|\tDevelops what users interact with and what the user sees|\n",
    "Backend Developer|\tDevelops what goes on behind the scenes, what the user doesn’t see, the technical stuff\n",
    "J.son|\tTransport information between systems|\n",
    "Agile|\tPractices like pair programming, planning sessions, sprints…|\n",
    "Sequence|\tTwo or more lines of code|\n",
    "Array|\tStores collection of multiple items under single variable name|\n",
    "\n",
    "\n",
    "Agile Notes\n",
    "1.Our highest priority is to satisfy the customer through early and continuous delivery of valuable software.\n",
    "\n",
    "2.Welcome changing requirements, even late in development. Agile processes harness change for the customer’s competitive advantage.\n",
    "\n",
    "3.Deliver working software frequently, from a couple of weeks to a couple of months, with a preference to the shorter timescale.\n",
    "\n",
    "4.Business people and developers must work together daily throughout the project.\n",
    "\n",
    "5.Build projects around motivated individuals. Give them the environment and support they need, and trust them to get the job done.\n",
    "\n",
    "6.The most efficient and effective method of conveying information to and within a development team is face-to-face conversation.\n",
    "\n",
    "7.Working software is the primary measure of progress.\n",
    "\n",
    "8.Agile processes promote sustainable development. The sponsors, developers, and users should be able to maintain a constant pace indefinitely.\n",
    "\n",
    "9.Continuous attention to technical excellence and good design enhances agility.\n",
    "\n",
    "10.Simplicity–the art of maximizing the amount of work not done–is essential.\n",
    "\n",
    "11.The best architectures, requirements, and designs emerge from self-organizing teams.\n",
    "\n",
    "12.At regular intervals, the team reflects on how to become more effective, then tunes and adjusts its behavior accordingly."
   ]
  }
 ],
 "metadata": {
  "kernelspec": {
   "display_name": "Python 3.10.7 64-bit",
   "language": "python",
   "name": "python3"
  },
  "language_info": {
   "name": "python",
   "version": "3.10.7"
  },
  "orig_nbformat": 4,
  "vscode": {
   "interpreter": {
    "hash": "aee8b7b246df8f9039afb4144a1f6fd8d2ca17a180786b69acc140d282b71a49"
   }
  }
 },
 "nbformat": 4,
 "nbformat_minor": 2
}
