{
 "cells": [
  {
   "cell_type": "markdown",
   "metadata": {},
   "source": [
    "# Unit 3 Section 3-4 Blog\n",
    "- title: Unit 3 Section 3-4 Blog\n",
    "- tags: [week 14]\n",
    "- toc: true\n",
    "- comments: true"
   ]
  },
  {
   "cell_type": "markdown",
   "metadata": {},
   "source": [
    "# Notes\n",
    "\n",
    "-Programs created using programming languages can execute algorithms that have been expressed in a variety of ways.\n",
    "\n",
    "-Sequencing, selection, and iteration can be combined to create any algorithm.\n",
    "\n",
    "-We humans use algorithms on a daily basis; an algorithm is a finite set of instructions that accomplishes a certain task.\n",
    "\n",
    "-Implementing steps sequentially entails, for instance, carrying out the first action before moving on to the second, third, etc.\n",
    "\n",
    "-When a coder chooses between two possible results, this is called selection.\n",
    "\n",
    "-Iteration is the process of repeating a step until the requirement is met."
   ]
  },
  {
   "cell_type": "markdown",
   "metadata": {},
   "source": [
    "# Vocab\n",
    "\n",
    "algorithm- finite set of instructions that accomplish a specific task, composed of sequencing, selection, and iteration.\n",
    "\n",
    "selection- a section of code is run only if a condition is met.\n",
    "\n",
    "iteration- repeating steps or instructions over and over again\n",
    "\n",
    "sequencing- outline or set of steps that we do and follow in order that they are given\n",
    "\n",
    "variable- you can store an actual value, the value of a variable in another variable, the result of an operation, or result of a procedural call\n",
    "\n",
    "String: a sequence of characters"
   ]
  },
  {
   "cell_type": "code",
   "execution_count": 6,
   "metadata": {},
   "outputs": [
    {
     "name": "stdout",
     "output_type": "stream",
     "text": [
      "[0, 2, 4, 6, 8, 10]\n"
     ]
    }
   ],
   "source": [
    "numbers = [0,1,2,3,4,5,6,7,8,9,10]\n",
    "evens = []\n",
    "\n",
    "for i in numbers:\n",
    "    if (numbers[i] % 2 == 0):\n",
    "        evens.append(numbers[i])\n",
    "\n",
    "print(evens)"
   ]
  },
  {
   "cell_type": "markdown",
   "metadata": {},
   "source": [
    "Sequencing: all pf the steps\n",
    "\n",
    "Iteration:They go through all the numbers in the step \"for I in numbers:\" \n",
    "\n",
    "Selection: \"if (numbers[i]% 2 == 0)\" due to the fact that they sort each number to discover the even ones, "
   ]
  },
  {
   "cell_type": "code",
   "execution_count": 1,
   "metadata": {},
   "outputs": [
    {
     "name": "stdout",
     "output_type": "stream",
     "text": [
      "*\n",
      "**\n",
      "***\n",
      "****\n",
      "*****\n"
     ]
    }
   ],
   "source": [
    "i = 1\n",
    "starString = \"*\"\n",
    "while i <= 5:\n",
    "  j = 1\n",
    "  while j <= i:\n",
    "    print (\"*\", end= \"\")\n",
    "    j += 1\n",
    "  print ()\n",
    "  i += 1"
   ]
  },
  {
   "cell_type": "markdown",
   "metadata": {},
   "source": [
    "Sequence: all steps\n",
    "\n",
    "Iteration: \"While I <>= 5:\" since they keep going until i's 5.\n",
    "\n",
    "Selection: \"While j <>= I\" since this is where they choose what j is, "
   ]
  },
  {
   "cell_type": "markdown",
   "metadata": {},
   "source": [
    "## 3.3 Video 2 Hacks\n",
    "### Practice Problems \n",
    "1. given the following code segment below:\n",
    "\n",
    "a ⟵ 7\n",
    "\n",
    "b ⟵ 1\n",
    "\n",
    "c ⟵ 3\n",
    "\n",
    "d ⟵ 4\n",
    "\n",
    "a ⟵ b\n",
    "\n",
    "b ⟵ c + d\n",
    "\n",
    "d ⟵ b \n",
    "\n",
    "\n",
    "a = 1, b = 7, c = 3, d = 7\n",
    "\n",
    "2. consider the following code segment:\n",
    "\n",
    "hot ⟵ true\n",
    "\n",
    "cold ⟵ false\n",
    "\n",
    "cold ⟵ hot \n",
    "\n",
    "hot ⟵ cold\n",
    "\n",
    "what are the values of hot and cold after executing the code segment? \n",
    "1. the value of hot is true, the value of cold is true \n",
    "2. the value of hot is false, the value of cold is true\n",
    "3. the value of hot is true, the value of cold is false\n",
    "4. the value of hot is false, the value of cold is false \n",
    "\n",
    "Answer: 1. the value of hot is true, the value of cold is true \n"
   ]
  },
  {
   "cell_type": "markdown",
   "metadata": {},
   "source": [
    "4. Sequencing"
   ]
  },
  {
   "cell_type": "code",
   "execution_count": null,
   "metadata": {},
   "outputs": [],
   "source": [
    "num1 = 3\n",
    "num2 = 1\n",
    "num3 = 5\n",
    "num1 = num2 + num3      \n",
    "num2 = num1 + num3      # num2 is now the new num1 + num3"
   ]
  },
  {
   "cell_type": "markdown",
   "metadata": {},
   "source": [
    "Answer num1 = 6, num2 = 11\n"
   ]
  },
  {
   "cell_type": "markdown",
   "metadata": {},
   "source": [
    "## 3.4 Video 1 Hacks\n",
    "\n",
    "### String Homework\n",
    "---------------------------------------------------------------\n",
    "\n",
    "\n",
    "- Test 1\n",
    "\n",
    "    firstName <- \"Bob\"\n",
    "    lastName <- \"Smith\"\n",
    "    var <- substring(firstName, 1, 1)\n",
    "    name <- concat(lastName, var)\n",
    "    email <- concat(name, \"@gmail.com\")\n",
    "    DISPLAY(email)\n",
    "\n",
    "- What would the result be?\n",
    "\n",
    " Hint:\n",
    " var = \"B\"\n",
    " name = \"SmithB\"\n",
    "\n",
    " Answer: SmithB@gmail.com\n",
    "\n",
    "---------------------------------------------------------------\n",
    "- Test 2\n",
    "\n",
    "    word1 <- \"computer\"\n",
    "    word2 <- \"textbooks\"\n",
    "    length1 <- len(word1)/2\n",
    "    length2 <- len(word2)/3\n",
    "    first <- substring(word1, 2, len1)\n",
    "    second <- substring(word2, len2+3, len2)\n",
    "    newWord <- concat(first, second)\n",
    "    DISPLAY(newWord)\n",
    "\n",
    "    Answer:ompuook\n",
    "\n",
    "\n",
    "\n",
    "\n"
   ]
  },
  {
   "cell_type": "markdown",
   "metadata": {},
   "source": [
    "# Reflection\n",
    "\n",
    "These lessons were a bit challenging at first but with perserverance I was able to understand the concepts which allowed me to answer the questions correctly. The presentation was great and I learned a lot from it."
   ]
  }
 ],
 "metadata": {
  "kernelspec": {
   "display_name": "Python 3.8.10 64-bit",
   "language": "python",
   "name": "python3"
  },
  "language_info": {
   "codemirror_mode": {
    "name": "ipython",
    "version": 3
   },
   "file_extension": ".py",
   "mimetype": "text/x-python",
   "name": "python",
   "nbconvert_exporter": "python",
   "pygments_lexer": "ipython3",
   "version": "3.10.4"
  },
  "orig_nbformat": 4,
  "vscode": {
   "interpreter": {
    "hash": "916dbcbb3f70747c44a77c7bcd40155683ae19c65e1c03b4aa3499c5328201f1"
   }
  }
 },
 "nbformat": 4,
 "nbformat_minor": 2
}
