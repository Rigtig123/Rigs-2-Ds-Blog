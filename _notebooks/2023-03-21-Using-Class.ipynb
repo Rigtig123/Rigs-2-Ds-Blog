{
 "cells": [
  {
   "attachments": {},
   "cell_type": "markdown",
   "metadata": {},
   "source": [
    "# Extra 2.4 Hacks"
   ]
  },
  {
   "attachments": {},
   "cell_type": "markdown",
   "metadata": {},
   "source": [
    "Create"
   ]
  },
  {
   "cell_type": "code",
   "execution_count": 11,
   "metadata": {},
   "outputs": [],
   "source": [
    "\"\"\"\n",
    "These imports define the key objects\n",
    "\"\"\"\n",
    "\n",
    "from flask import Flask\n",
    "from flask_sqlalchemy import SQLAlchemy\n",
    "\n",
    "\"\"\"\n",
    "These object and definitions are used throughout the Jupyter Notebook.\n",
    "\"\"\"\n",
    "\n",
    "# Setup of key Flask object (app)\n",
    "app = Flask(__name__)\n",
    "# Setup SQLAlchemy object and properties for the database (db)\n",
    "database = 'sqlite:///sqlite.db'  # path and filename of database\n",
    "app.config['SQLALCHEMY_TRACK_MODIFICATIONS'] = False\n",
    "app.config['SQLALCHEMY_DATABASE_URI'] = database\n",
    "app.config['SECRET_KEY'] = 'SECRET_KEY'\n",
    "db = SQLAlchemy()\n",
    "\n",
    "\n",
    "# This belongs in place where it runs once per project\n",
    "db.init_app(app)"
   ]
  },
  {
   "cell_type": "code",
   "execution_count": 12,
   "metadata": {},
   "outputs": [],
   "source": [
    "import datetime\n",
    "\n",
    "import json\n",
    "\n",
    "from datetime import datetime\n",
    "\n",
    "from sqlalchemy.exc import IntegrityError\n",
    "\n",
    "\n",
    "\n",
    "class Game(db.Model):\n",
    "    __tablename__ = 'games'\n",
    "\n",
    "    # added this after getting an error that the table had already been defined\n",
    "    __table_args__ = {'extend_existing': True}\n",
    "\n",
    "\n",
    "    id = db.Column(db.Integer, primary_key=True)\n",
    "    name = db.Column(db.String(255), unique=True, nullable=False)\n",
    "    price = db.Column(db.Float, nullable=False)\n",
    "    release_date = db.Column(db.Date, nullable=False)\n",
    "    developer = db.Column(db.String(255), nullable=False)\n",
    "    publisher = db.Column(db.String(255), nullable=False)\n",
    "\n",
    "    def __init__(self, name, price, release_date, developer, publisher):\n",
    "        self.name = name\n",
    "        self.price = price\n",
    "        self.release_date = release_date\n",
    "        self.developer = developer\n",
    "        self.publisher = publisher\n",
    "\n",
    "    @property\n",
    "    def game_info(self):\n",
    "        return self.read()\n",
    "\n",
    "    def create(self):\n",
    "        try:\n",
    "            db.session.add(self)\n",
    "            db.session.commit()\n",
    "            return self\n",
    "        except IntegrityError:\n",
    "            db.session.remove()\n",
    "            return None\n",
    "\n",
    "    def read(self):\n",
    "        return {\n",
    "            \"id\": self.id,\n",
    "            \"name\": self.name,\n",
    "            \"price\": self.price,\n",
    "            \"release_date\": self.release_date,\n",
    "            \"developer\": self.developer,\n",
    "            \"publisher\": self.publisher,\n",
    "        }\n",
    "\n",
    "    def update(self, name=\"\", price=\"\", release_date=\"\", developer=\"\", publisher=\"\"):\n",
    "        if len(name) > 0:\n",
    "            self.name = name\n",
    "        if len(price) > 0:\n",
    "            self.price = price\n",
    "        if len(release_date) > 0:\n",
    "            self.release_date = release_date\n",
    "        if len(developer) > 0:\n",
    "            self.developer = developer\n",
    "        if len(publisher) > 0:\n",
    "            self.publisher = publisher\n",
    "        db.session.commit()\n",
    "        return self\n",
    "\n",
    "    def delete(self):\n",
    "        db.session.delete(self)\n",
    "        db.session.commit()\n",
    "        return None\n"
   ]
  },
  {
   "cell_type": "code",
   "execution_count": 14,
   "metadata": {},
   "outputs": [
    {
     "name": "stdout",
     "output_type": "stream",
     "text": [
      "Records exist uid Mario Party 9, or error.\n",
      "Records exist uid Legend of Zelda: Tears of the Kingdom, or error.\n"
     ]
    }
   ],
   "source": [
    "\"\"\"Database Creation and Testing \"\"\"\n",
    "\n",
    "\n",
    "# Builds working data for testing\n",
    "def initGames():\n",
    "    with app.app_context():\n",
    "        \"\"\"Create database and tables\"\"\"\n",
    "        db.create_all()\n",
    "        \"\"\"Tester data for table\"\"\"\n",
    "        g1 = Game(name='Mario Party 9', price=169.00, release_date=datetime(2012, 2, 3), developer='NDcube', publisher='Nintendo')\n",
    "        g2 = Game(name='Legend of Zelda: Tears of the Kingdom', price=69.99, release_date=datetime(2023, 5, 12), developer='Nintendo Entertaining Planning and Development', publisher='Nintendo')\n",
    " \n",
    "        # locals include age, name, date of birth, user id, etc.\n",
    "        # debugging allows you to go in to see if there is any problems with your code (ex. missing an attribute like user id)\n",
    "        # once you have your users, your sqlite.db file is created \n",
    "\n",
    "        games = [g1, g2]\n",
    "\n",
    "        \"\"\"Builds sample user/note(s) data\"\"\"\n",
    "        for game in games:\n",
    "            try:\n",
    "                '''add user to table'''\n",
    "                object = game.create()\n",
    "                print(f\"Created new uid {object.name}\")\n",
    "            except:  # error raised if object nit created\n",
    "                '''fails with bad or duplicate data'''\n",
    "                print(f\"Records exist uid {game.name}, or error.\")\n",
    "                \n",
    "initGames()"
   ]
  },
  {
   "cell_type": "code",
   "execution_count": 15,
   "metadata": {},
   "outputs": [],
   "source": [
    "def find_by_name(Name):\n",
    "    with app.app_context():\n",
    "        game = Game.query.filter_by(Name=Name).first()\n",
    "    return game\n",
    "\n",
    "        \n",
    "#check_credentials(\"indi\", \"123qwerty\")"
   ]
  },
  {
   "attachments": {},
   "cell_type": "markdown",
   "metadata": {},
   "source": [
    "# Create"
   ]
  },
  {
   "cell_type": "code",
   "execution_count": 20,
   "metadata": {},
   "outputs": [
    {
     "name": "stdout",
     "output_type": "stream",
     "text": [
      "Created\n",
      " {'id': 4, 'name': 'Overwatch', 'price': 60.0, 'release_date': datetime.date(2016, 11, 20), 'developer': 'Blizzard', 'publisher': 'Activision'}\n"
     ]
    }
   ],
   "source": [
    "def create():\n",
    "    # optimize user time to see if uid exists\n",
    "    name = input(\"Enter the name of your game:\")\n",
    "    game = find_by_name(name)\n",
    "    try:\n",
    "        print(\"Found\\n\", game.read())\n",
    "        return\n",
    "    except:\n",
    "        pass # keep going\n",
    "    \n",
    "    # request value that ensure creating valid object\n",
    "    price = float(input(\"Enter the price of your game\"))\n",
    "    developer = input(\"Enter the developer of your game\")\n",
    "    publisher = input(\"Enter the publisher of your game\")\n",
    "    \n",
    "    \n",
    "    # Initialize User object before date\n",
    "    game = Game(name=name, \n",
    "                price=price, \n",
    "                developer=developer,\n",
    "                publisher=publisher,\n",
    "                release_date=datetime.today().date()\n",
    "                )\n",
    "    \n",
    "    # create user.dob, fail with today as dob\n",
    "    release_date = input(\"Enter the date your game was (or is to be) released (YYYY-MM-DD)\")\n",
    "    try:\n",
    "        game.release_date = datetime.strptime(release_date, '%Y-%m-%d').date()\n",
    "    except ValueError:\n",
    "        game.release_date = datetime.today()\n",
    "        print(f\"Invalid date {release_date} require YYYY-mm-dd, date defaulted to {game.release_date}\")\n",
    "           \n",
    "    # write object to database\n",
    "    with app.app_context():\n",
    "        try:\n",
    "            object = game.create()\n",
    "            print(\"Created\\n\", object.read())\n",
    "        except:  # error raised if object not created\n",
    "            print(\"Unknown error name {name}\")\n",
    "        \n",
    "create()"
   ]
  },
  {
   "attachments": {},
   "cell_type": "markdown",
   "metadata": {},
   "source": [
    "# Read"
   ]
  },
  {
   "cell_type": "code",
   "execution_count": 21,
   "metadata": {},
   "outputs": [
    {
     "data": {
      "text/plain": [
       "[{'id': 1,\n",
       "  'name': 'Mario Party 9',\n",
       "  'price': 169.0,\n",
       "  'release_date': datetime.date(2012, 2, 3),\n",
       "  'developer': 'NDcube',\n",
       "  'publisher': 'Nintendo'},\n",
       " {'id': 2,\n",
       "  'name': 'Legend of Zelda: Tears of the Kingdom',\n",
       "  'price': 69.99,\n",
       "  'release_date': datetime.date(2023, 5, 12),\n",
       "  'developer': 'Nintendo Entertaining Planning and Development',\n",
       "  'publisher': 'Nintendo'},\n",
       " {'id': 3,\n",
       "  'name': 'Destiny 2',\n",
       "  'price': 60.0,\n",
       "  'release_date': datetime.date(2023, 3, 22),\n",
       "  'developer': 'Bungie',\n",
       "  'publisher': 'Activision'},\n",
       " {'id': 4,\n",
       "  'name': 'Overwatch',\n",
       "  'price': 60.0,\n",
       "  'release_date': datetime.date(2016, 11, 20),\n",
       "  'developer': 'Blizzard',\n",
       "  'publisher': 'Activision'}]"
      ]
     },
     "execution_count": 21,
     "metadata": {},
     "output_type": "execute_result"
    }
   ],
   "source": [
    "# SQLAlchemy extracts all users from database, turns each user into JSON\n",
    "def read():\n",
    "    with app.app_context():\n",
    "        table = Game.query.all()\n",
    "    json_ready = [game.read() for game in table] # \"List Comprehensions\", for each user add user.read() to list\n",
    "    return json_ready\n",
    "\n",
    "read()"
   ]
  },
  {
   "attachments": {},
   "cell_type": "markdown",
   "metadata": {},
   "source": [
    "# Update"
   ]
  },
  {
   "cell_type": "code",
   "execution_count": 22,
   "metadata": {},
   "outputs": [
    {
     "name": "stdout",
     "output_type": "stream",
     "text": [
      "Current values:\n",
      "{'id': 4, 'name': 'Overwatch', 'price': 60.0, 'release_date': datetime.date(2016, 11, 20), 'developer': 'Blizzard', 'publisher': 'Activision'}\n",
      "Updated values:\n",
      "{'id': 4, 'name': 'Overwatch', 'price': 60.0, 'release_date': datetime.date(2016, 11, 21), 'developer': 'Blizzard', 'publisher': 'Activision'}\n"
     ]
    }
   ],
   "source": [
    "def update():\n",
    "    # find the game to update\n",
    "    name = input(\"Enter the name of the game to update: \")\n",
    "    game = find_by_name(name)\n",
    "    if not game:\n",
    "        print(\"Game not found\")\n",
    "        return\n",
    "    \n",
    "    # print the current values\n",
    "    print(\"Current values:\")\n",
    "    print(game.read())\n",
    "    \n",
    "    # prompt the user for new values, allowing them to skip\n",
    "    new_name = input(f\"Enter a new name [{game.name}]: \")\n",
    "    if new_name:\n",
    "        game.name = new_name\n",
    "    \n",
    "    new_price = input(f\"Enter a new price [{game.price}]: \")\n",
    "    if new_price:\n",
    "        game.price = float(new_price)\n",
    "    \n",
    "    new_developer = input(f\"Enter a new developer [{game.developer}]: \")\n",
    "    if new_developer:\n",
    "        game.developer = new_developer\n",
    "    \n",
    "    new_publisher = input(f\"Enter a new publisher [{game.publisher}]: \")\n",
    "    if new_publisher:\n",
    "        game.publisher = new_publisher\n",
    "    \n",
    "    new_release_date = input(f\"Enter a new release date (YYYY-MM-DD) [{game.release_date}]: \")\n",
    "    if new_release_date:\n",
    "        try:\n",
    "            game.release_date = datetime.strptime(new_release_date, '%Y-%m-%d').date()\n",
    "        except ValueError:\n",
    "            print(\"Invalid date format. Date not updated.\")\n",
    "    \n",
    "    # update the game in the database\n",
    "    with app.app_context():\n",
    "        try:\n",
    "            updated_game = game.update()\n",
    "            print(\"Updated values:\")\n",
    "            print(updated_game.read())\n",
    "        except:\n",
    "            print(\"Error updating game\")\n",
    "update()"
   ]
  },
  {
   "attachments": {},
   "cell_type": "markdown",
   "metadata": {},
   "source": [
    "# Delete"
   ]
  },
  {
   "cell_type": "code",
   "execution_count": 23,
   "metadata": {},
   "outputs": [
    {
     "name": "stdout",
     "output_type": "stream",
     "text": [
      "Found\n",
      " {'id': 3, 'name': 'Destiny 2', 'price': 60.0, 'release_date': datetime.date(2023, 3, 22), 'developer': 'Bungie', 'publisher': 'Activision'}\n",
      "Game with name Destiny 2 deleted\n"
     ]
    }
   ],
   "source": [
    "def delete():\n",
    "    name = input(\"Enter the name of the game to delete:\")\n",
    "    game = find_by_name(name)\n",
    "    try:\n",
    "        print(\"Found\\n\", game.read())\n",
    "    except:\n",
    "        print(f\"Game with name {name} not found\")\n",
    "        return\n",
    "    \n",
    "    # confirm deletion\n",
    "    confirm = input(\"Are you sure you want to delete this game? (y/n)\")\n",
    "    if confirm.lower() == 'y':\n",
    "        with app.app_context():\n",
    "            try:\n",
    "                game.delete()\n",
    "                print(f\"Game with name {name} deleted\")\n",
    "            except:  # error raised if object not deleted\n",
    "                print(f\"Unknown error deleting game with name {name}\")\n",
    "    else:\n",
    "        print(f\"Deletion of game with name {name} cancelled\")\n",
    "\n",
    "delete()"
   ]
  },
  {
   "attachments": {},
   "cell_type": "markdown",
   "metadata": {},
   "source": [
    "# Menu"
   ]
  }
 ],
 "metadata": {
  "kernelspec": {
   "display_name": "base",
   "language": "python",
   "name": "python3"
  },
  "language_info": {
   "codemirror_mode": {
    "name": "ipython",
    "version": 3
   },
   "file_extension": ".py",
   "mimetype": "text/x-python",
   "name": "python",
   "nbconvert_exporter": "python",
   "pygments_lexer": "ipython3",
   "version": "3.9.13"
  },
  "orig_nbformat": 4
 },
 "nbformat": 4,
 "nbformat_minor": 2
}
