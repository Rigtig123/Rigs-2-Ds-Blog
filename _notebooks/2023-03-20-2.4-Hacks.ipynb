{
 "cells": [
  {
   "attachments": {},
   "cell_type": "markdown",
   "metadata": {},
   "source": [
    "# 2.4 Hacks"
   ]
  },
  {
   "cell_type": "code",
   "execution_count": 1,
   "metadata": {},
   "outputs": [],
   "source": [
    "import sqlite3 \n",
    "\n",
    "def create_connection(db): \n",
    "    connection = None\n",
    "    try: \n",
    "        connection = sqlite3.connect(db)\n",
    "        return connection \n",
    "    except Error as e: \n",
    "        print(e)\n",
    "    return connection \n",
    "\n",
    "def create_table(connection, createTblSql): \n",
    "    try: \n",
    "        cursor = connection.cursor()\n",
    "        cursor.execute(createTblSql)\n",
    "    except Error as e: \n",
    "        print(e)\n",
    "\n",
    "def main(): \n",
    "    database = 'instance/basketball.db'\n",
    "\n",
    "    createTblSql = \"\"\" CREATE TABLE IF NOT EXISTS basketball (\n",
    "                                        _id integer PRIMARY KEY,\n",
    "                                        _player text NOT NULL,\n",
    "                                        _nationality text NOT NULL,\n",
    "                                        _strengths text NOT NULL,\n",
    "                                        _weaknesses text NOT NULL\n",
    "                                    ); \"\"\"\n",
    "    connection = create_connection(database)\n",
    "\n",
    "    # create basketball table\n",
    "    if connection is not None:\n",
    "        create_table(connection, createTblSql)\n",
    "    else:\n",
    "        print('Connection Error')\n",
    "\n",
    "\n",
    "if __name__ == '__main__':\n",
    "    main()"
   ]
  },
  {
   "attachments": {},
   "cell_type": "markdown",
   "metadata": {},
   "source": [
    "# Create"
   ]
  },
  {
   "cell_type": "code",
   "execution_count": 6,
   "metadata": {},
   "outputs": [
    {
     "name": "stdout",
     "output_type": "stream",
     "text": [
      "New basketball with James Harden is added.\n"
     ]
    }
   ],
   "source": [
    "def create():\n",
    "    database = 'instance/basketball.db'\n",
    "    player = input(\"Enter the player name\")\n",
    "    nationality = input(\"Enter nationality\")\n",
    "    strengths = input(\"Enter player strengths\")\n",
    "    weaknesses = input(\"Enter your player weaknesses\")\n",
    "\n",
    "    # Connecting to the database, create cursor to execute the SQL command\n",
    "    connection = sqlite3.connect(database)\n",
    "    cursor = connection.cursor()\n",
    "\n",
    "    try:\n",
    "        # Execute SQL to insert record in to db\n",
    "        cursor.execute(\"INSERT INTO basketball (_player, _nationality, _strengths, _weaknesses) VALUES (?, ?, ?, ?)\", (player, nationality, strengths, weaknesses))\n",
    "        # Commit the changes\n",
    "        connection.commit()\n",
    "        print(f\"New basketball with {player} is added.\")\n",
    "                \n",
    "    except sqlite3.Error as error:\n",
    "        print(\"Error while inserting record\", error)\n",
    "\n",
    "    # Closing cursor and connection\n",
    "    cursor.close()\n",
    "    connection.close()\n",
    "    \n",
    "create()"
   ]
  },
  {
   "attachments": {},
   "cell_type": "markdown",
   "metadata": {},
   "source": [
    "# Read"
   ]
  },
  {
   "cell_type": "code",
   "execution_count": 7,
   "metadata": {},
   "outputs": [
    {
     "name": "stdout",
     "output_type": "stream",
     "text": [
      "(1, 'Lebron James', 'American', 'Clutch', '3pter')\n",
      "(2, 'James Harden', 'American', 'Passing', 'Defense')\n"
     ]
    }
   ],
   "source": [
    "def read():\n",
    "\n",
    "    database = 'instance/basketball.db'\n",
    "    # Connecting to the database, create cursor to execute the SQL command\n",
    "    connection = sqlite3.connect(database)\n",
    "    cursor = connection.cursor()\n",
    "    \n",
    "    # Fetch all the records from basketball table\n",
    "    results = cursor.execute('SELECT * FROM basketball').fetchall()\n",
    "\n",
    "    if len(results) != 0:\n",
    "        for row in results:\n",
    "            print(row)\n",
    "    else:\n",
    "        print(\"No basketball\")\n",
    "\n",
    "    # Closing cursor and connection\n",
    "    cursor.close()\n",
    "    connection.close()\n",
    "\n",
    "read()"
   ]
  },
  {
   "attachments": {},
   "cell_type": "markdown",
   "metadata": {},
   "source": [
    "# Update"
   ]
  },
  {
   "cell_type": "code",
   "execution_count": 8,
   "metadata": {},
   "outputs": [
    {
     "name": "stdout",
     "output_type": "stream",
     "text": [
      "Review for the basketball is updated to Shooting\n"
     ]
    }
   ],
   "source": [
    "import sqlite3\n",
    "\n",
    "# updating review\n",
    "def update():  \n",
    "    \n",
    "    database = 'instance/basketball.db'\n",
    "    basketballId = input(\"Enter a basketball id to update the review\")\n",
    "    weaknesses = input(\"Enter new weakness\")\n",
    "\n",
    "   # Connecting to the database, create cursor to execute the SQL command\n",
    "    connection = sqlite3.connect(database)\n",
    "    cursor = connection.cursor()\n",
    "\n",
    "    try:\n",
    "        # Updating review for the basketball\n",
    "        cursor.execute(\"UPDATE basketball SET _weaknesses = ? WHERE _id = ?\", (weaknesses, basketballId))\n",
    "        if cursor.rowcount != 0:\n",
    "            print(f\"Review for the basketball is updated to {weaknesses}\")\n",
    "            connection.commit()\n",
    "        else:\n",
    "            print(f\"basketball not found\")\n",
    "    except sqlite3.Error as error:\n",
    "        print(\"Error occurred\", error)\n",
    "        \n",
    "    # Closing cursor and connection\n",
    "    cursor.close()\n",
    "    connection.close()\n",
    "\n",
    "\n",
    "update()"
   ]
  },
  {
   "attachments": {},
   "cell_type": "markdown",
   "metadata": {},
   "source": [
    "# Delete"
   ]
  },
  {
   "cell_type": "code",
   "execution_count": 9,
   "metadata": {},
   "outputs": [
    {
     "name": "stdout",
     "output_type": "stream",
     "text": [
      "Successfully deleted book with id 2\n"
     ]
    }
   ],
   "source": [
    "import sqlite3\n",
    "\n",
    "def delete():\n",
    "    \n",
    "    database = 'instance/basketball.db'\n",
    "    basketballId = input(\"Enter basketball id to delete\")\n",
    "\n",
    "    # Connecting to the database, create cursor to execute the SQL command\n",
    "    connection = sqlite3.connect(database)\n",
    "    cursor = connection.cursor()\n",
    "    \n",
    "    try:\n",
    "        cursor.execute(\"DELETE FROM basketball WHERE _id = ?\", (basketballId,))\n",
    "        if cursor.rowcount == 0:\n",
    "            print(f\"{basketballId} does not exist\")\n",
    "        else:\n",
    "            print(f\"Successfully deleted book with id {basketballId}\")\n",
    "        connection.commit()\n",
    "    except sqlite3.Error as error:\n",
    "        print(\"Error occurred: \", error)\n",
    "        \n",
    "    # Closing cursor and connection\n",
    "    cursor.close()\n",
    "    connection.close()\n",
    "\n",
    "delete()"
   ]
  }
 ],
 "metadata": {
  "kernelspec": {
   "display_name": "base",
   "language": "python",
   "name": "python3"
  },
  "language_info": {
   "codemirror_mode": {
    "name": "ipython",
    "version": 3
   },
   "file_extension": ".py",
   "mimetype": "text/x-python",
   "name": "python",
   "nbconvert_exporter": "python",
   "pygments_lexer": "ipython3",
   "version": "3.9.13"
  },
  "orig_nbformat": 4
 },
 "nbformat": 4,
 "nbformat_minor": 2
}
