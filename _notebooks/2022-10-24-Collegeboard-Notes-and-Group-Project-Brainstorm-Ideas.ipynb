{
 "cells": [
  {
   "cell_type": "markdown",
   "metadata": {},
   "source": [
    "# College Board Notes on Design and Development Process and Group Project Brainstorm\n",
    "> Code.\n",
    "\n",
    "- toc: true\n",
    "- badges: true\n",
    "- comments: true\n",
    "- categories: [jupyter]\n",
    "- image: images/chart-preview.png"
   ]
  },
  {
   "cell_type": "markdown",
   "metadata": {},
   "source": [
    "1.3 Program Design and Development Notes\n",
    "\n",
    "Video 1\n",
    "\n",
    "- Desogn a program and its user interface\n",
    "- Use a development process to develop a program \n",
    "- Break the project into smaller pieces and make sure each piece works before adding it to the whole\n",
    "- Requires refinement and revision based on feedback, testing, and reflection: may require revisiting places\n",
    "- Investigate to determine requirements, constraints, concerns and interests of customer\n",
    "- Investigate by: collecting data through surveys, user testing, interviews, direct obervations\n",
    "- Design phase that outlines how to accomplisha programs goal may include: brainstorming, planning/story boarding, organizing the program into modules and functional components\n",
    "\n",
    "Video 2\n",
    "\n",
    "- Team of people usually work on a program by each focusing on different functional components\n",
    "- Each member’s work should be credited in program documentation Sometimes credit is given with comments in the code\n",
    "- Many developers use code segments, procedures, algorithms made by others who aren’t part of the project so it is important to credit them\n",
    "- When developing a program, it is important to cite and acknowledge code segments used from either another source or developed collaboratively\n",
    "- When acknowledging someone else, include the origin of code or authors name in the program documentation\n",
    "\n",
    "\n",
    "Video 3\n",
    "\n",
    "- Program documentation created to: describe the program, list specifications, describe different parts of the program, list of contributors\n",
    "- Document process: beginning: list specifications, during: keep track of progress, after: explain overall process\n",
    "- Describe the purpose of a code segment or program by writing documentation\n",
    "- Program documentation: a written description of the function of a code segment, event, procedure, or program and how it was developed EX: comments (don’t effect how the program runs)\n",
    "- Should actively document throughout development to help development as well as maintaining correct programs\n",
    "- Documentation improves: programming process efficiency, ability to test and refine program, responding to bugs\n",
    "\n"
   ]
  },
  {
   "cell_type": "markdown",
   "metadata": {},
   "source": [
    "Purpose of NBA website and website ideas\n",
    "\n",
    "The Purpose of our website is to have a cohesive and easy to access database with all things NBA. Our group follows basketball and the NBA in particular heavily and we feel as this project will help likeminded individuals like ourselves find information regarding the NBA. We plan to have a database of data relating to all NBA players current and in past with advanced statistics and lists of accolades and achievements. We will also have overall NBA stats from season to season as well as teams individually. We also intend to add various quizzes to challenge people.\n",
    "\n",
    "Brainstorming ideas\n",
    "\n",
    "- Add a search bar that can be filtered based on NBA team, Player, or Season to make it easier to use\n",
    "- Pictures that represent each organization to please the eye\n",
    "- Quizzes can be found by exploring page so it is like a game\n",
    "- Have tables of advanced statisitcs and accolades for each player to increase readability of website\n",
    "- College database also\n",
    "- Most intricate NBA database"
   ]
  }
 ],
 "metadata": {
  "kernelspec": {
   "display_name": "JavaScript (Node.js)",
   "language": "javascript",
   "name": "javascript"
  },
  "language_info": {
   "file_extension": ".js",
   "mimetype": "application/javascript",
   "name": "javascript",
   "version": "10.13.0"
  },
  "orig_nbformat": 4,
  "vscode": {
   "interpreter": {
    "hash": "aee8b7b246df8f9039afb4144a1f6fd8d2ca17a180786b69acc140d282b71a49"
   }
  }
 },
 "nbformat": 4,
 "nbformat_minor": 2
}
