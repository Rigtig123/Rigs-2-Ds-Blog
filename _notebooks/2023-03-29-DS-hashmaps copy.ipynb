{
 "cells": [
  {
   "attachments": {},
   "cell_type": "markdown",
   "metadata": {},
   "source": [
    "#  Data Structures- Hashmaps, Sets, Hash Tables, Hashing and Collisions\n",
    "> Observing hashmaps with python dictionaries\n",
    "- toc: true\n",
    "- image: /images/python.png\n",
    "- categories: []\n",
    "- type: pbl\n",
    "- week: 28"
   ]
  },
  {
   "attachments": {},
   "cell_type": "markdown",
   "metadata": {},
   "source": [
    "## What is a Hashtable/Hashmap?\n",
    "\n",
    "> A hashtable is a data structure that with a collection of key-value pairs, where each key maps to a value, and the keys must be unique and hashable.\n",
    "\n",
    "- In Python there is a built in hashtable known as a _______Dictionary________.\n",
    "\n",
    "> The primary purpose of a hashtable is to provide efficient lookup, insertion, and deletion operations. When an element is to be inserted into the hashtable, a hash function is used to map the key to a specific index in the underlying array that is used to store the key-value pairs. The value is then stored at that index. When searching for a value, the hash function is used again to find the index where the value is stored.\n",
    "\n",
    "> The key advantage of a hashtable over other data structures like arrays and linked lists is its average-case time complexity for lookup, insertion, and deletion operations.\n",
    "\n",
    "- The typical time complexity of a hashtable is ______hashtable is O(1)_________. \n"
   ]
  },
  {
   "attachments": {},
   "cell_type": "markdown",
   "metadata": {},
   "source": [
    "## What is Hashing and Collision?\n",
    "\n",
    "> Hashing is the process of mapping a given key to a value in a hash table or hashmap, using a hash function. The hash function takes the key as input and produces a hash value or hash code, which is then used to determine the index in the underlying array where the value is stored. The purpose of hashing is to provide a quick and efficient way to access data, by eliminating the need to search through an entire data structure to find a value.\n",
    "\n",
    "> However, it is possible for two different keys to map to the same hash value, resulting in a collision. When a collision occurs, there are different ways to resolve it, depending on the collision resolution strategy used.\n",
    "\n",
    "> Python's dictionary implementation is optimized to handle collisions efficiently, and the performance of the dictionary is generally very good, even in the presence of collisions. However, if the number of collisions is very high, the performance of the dictionary can degrade, so it is important to choose a good hash function that minimizes collisions when designing a Python dictionary.\n",
    "\n",
    "## What is a Set?"
   ]
  },
  {
   "cell_type": "code",
   "execution_count": 1,
   "metadata": {},
   "outputs": [
    {
     "name": "stdout",
     "output_type": "stream",
     "text": [
      "{1, 2, 3}\n"
     ]
    }
   ],
   "source": [
    "# Creating a set using set() function\n",
    "my_set = set([1, 2, 3, 2, 1])\n",
    "print(my_set)  \n",
    "\n",
    "# What do you notice in the output?\n",
    "#\n",
    "#\n",
    "\n",
    "# Why do you think Sets are in the same tech talk as Hashmaps/Hashtables?\n",
    "#\n",
    "#"
   ]
  },
  {
   "attachments": {},
   "cell_type": "markdown",
   "metadata": {},
   "source": [
    "What do you notice in the output?\n",
    "\n",
    "What we can notice is that the output is a set containing the unique elements of the list [1, 2, 3, 2, 1]. The set data type in Python is an unordered collection of unique elements. When we create a set from a list using the set() function, it automatically removes any duplicates, which is why the output only contains the unique elements 1, 2, and 3. \n",
    "\n",
    "Why do you think Sets are in the same tech talk as Hashmaps/Hashtables?\n",
    "\n",
    "Sets are similar to hash tables/hashtables in coding because both are implemented as hash tables in many programming languages, including Python. In a hash table, data is stored in an array-like structure, and the location of each element is determined by its hash value, which is calculated based on its key.\n",
    "\n",
    "In the case of sets, each element in the set serves as its own key, and the value associated with each key is simply a placeholder value. This is similar to how hash tables work, where each element is stored at a location in the array based on its hash value, and the value associated with that location is the value of the element itself."
   ]
  },
  {
   "attachments": {},
   "cell_type": "markdown",
   "metadata": {},
   "source": [
    "## Dictionary Example\n",
    "\n",
    "Below are just some basic features of a dictionary. As always, documentation is always the main source for all the full capablilties. "
   ]
  },
  {
   "cell_type": "code",
   "execution_count": 3,
   "metadata": {},
   "outputs": [
    {
     "name": "stdout",
     "output_type": "stream",
     "text": [
      "{'title': 'Lover', 'artist': 'Taylor Swift', 'year': 2019, 'genre': ['Pop', 'Synth-pop'], 'tracks': {1: 'I Forgot That You Existed', 2: 'Cruel Summer', 3: 'Lover', 4: 'The Man', 5: 'The Archer', 6: 'I Think He Knows', 7: 'Miss Americana & The Heartbreak Prince', 8: 'Paper Rings', 9: 'Cornelia Street', 10: 'Death By A Thousand Cuts', 11: 'London Boy', 12: \"Soon You'll Get Better (feat. Dixie Chicks)\", 13: 'False God', 14: 'You Need To Calm Down', 15: 'Afterglow', 16: 'Me! (feat. Brendon Urie of Panic! At The Disco)', 17: \"It's Nice To Have A Friend\", 18: 'Daylight'}}\n"
     ]
    }
   ],
   "source": [
    "lover_album = {\n",
    "    \"title\": \"Lover\",\n",
    "    \"artist\": \"Taylor Swift\",\n",
    "    \"year\": 2019,\n",
    "    \"genre\": [\"Pop\", \"Synth-pop\"],\n",
    "    \"tracks\": {\n",
    "        1: \"I Forgot That You Existed\",\n",
    "        2: \"Cruel Summer\",\n",
    "        3: \"Lover\",\n",
    "        4: \"The Man\",\n",
    "        5: \"The Archer\",\n",
    "        6: \"I Think He Knows\",\n",
    "        7: \"Miss Americana & The Heartbreak Prince\",\n",
    "        8: \"Paper Rings\",\n",
    "        9: \"Cornelia Street\",\n",
    "        10: \"Death By A Thousand Cuts\",\n",
    "        11: \"London Boy\",\n",
    "        12: \"Soon You'll Get Better (feat. Dixie Chicks)\",\n",
    "        13: \"False God\",\n",
    "        14: \"You Need To Calm Down\",\n",
    "        15: \"Afterglow\",\n",
    "        16: \"Me! (feat. Brendon Urie of Panic! At The Disco)\",\n",
    "        17: \"It's Nice To Have A Friend\",\n",
    "        18: \"Daylight\"\n",
    "    }\n",
    "}\n",
    "\n",
    "# What data structures do you see?\n",
    "# Lists [square brackets are a list] and dictionaries {curvy brackets are a dictionary}\n",
    "#\n",
    "\n",
    "# Printing the dictionary\n",
    "print(lover_album)"
   ]
  },
  {
   "attachments": {},
   "cell_type": "markdown",
   "metadata": {},
   "source": [
    "From the given code snippet, we can see the following data structures:\n",
    "\n",
    "A dictionary:\n",
    "\n",
    "lover_album is a dictionary that contains information about the album \"Lover\" by Taylor Swift.\n",
    "\n",
    "A list:\n",
    "The value associated with the \"genre\" key in the lover_album dictionary is a list containing two strings, \"Pop\" and \"Synth-pop\".\n",
    "Nested dictionaries:\n",
    "\n",
    "The value associated with the \"tracks\" key in the lover_album dictionary is a nested dictionary, where each key-value pair represents a track number and the corresponding song title.\n",
    "Overall, we can see the usage of multiple data structures such as a dictionary, list, and nested dictionary to store and represent information related to the \"Lover\" album by Taylor Swift."
   ]
  },
  {
   "cell_type": "code",
   "execution_count": 4,
   "metadata": {},
   "outputs": [
    {
     "name": "stdout",
     "output_type": "stream",
     "text": [
      "{1: 'I Forgot That You Existed', 2: 'Cruel Summer', 3: 'Lover', 4: 'The Man', 5: 'The Archer', 6: 'I Think He Knows', 7: 'Miss Americana & The Heartbreak Prince', 8: 'Paper Rings', 9: 'Cornelia Street', 10: 'Death By A Thousand Cuts', 11: 'London Boy', 12: \"Soon You'll Get Better (feat. Dixie Chicks)\", 13: 'False God', 14: 'You Need To Calm Down', 15: 'Afterglow', 16: 'Me! (feat. Brendon Urie of Panic! At The Disco)', 17: \"It's Nice To Have A Friend\", 18: 'Daylight'}\n",
      "{1: 'I Forgot That You Existed', 2: 'Cruel Summer', 3: 'Lover', 4: 'The Man', 5: 'The Archer', 6: 'I Think He Knows', 7: 'Miss Americana & The Heartbreak Prince', 8: 'Paper Rings', 9: 'Cornelia Street', 10: 'Death By A Thousand Cuts', 11: 'London Boy', 12: \"Soon You'll Get Better (feat. Dixie Chicks)\", 13: 'False God', 14: 'You Need To Calm Down', 15: 'Afterglow', 16: 'Me! (feat. Brendon Urie of Panic! At The Disco)', 17: \"It's Nice To Have A Friend\", 18: 'Daylight'}\n"
     ]
    }
   ],
   "source": [
    "print(lover_album.get('tracks'))\n",
    "# or\n",
    "print(lover_album['tracks'])"
   ]
  },
  {
   "cell_type": "code",
   "execution_count": 5,
   "metadata": {},
   "outputs": [
    {
     "name": "stdout",
     "output_type": "stream",
     "text": [
      "The Man\n",
      "The Man\n"
     ]
    }
   ],
   "source": [
    "print(lover_album.get('tracks')[4])\n",
    "# or\n",
    "print(lover_album['tracks'][4])"
   ]
  },
  {
   "cell_type": "code",
   "execution_count": 6,
   "metadata": {},
   "outputs": [
    {
     "name": "stdout",
     "output_type": "stream",
     "text": [
      "{'title': 'Lover', 'artist': 'Taylor Swift', 'year': 2019, 'genre': ['Pop', 'Synth-pop'], 'tracks': {1: 'I Forgot That You Existed', 2: 'Cruel Summer', 3: 'Lover', 4: 'The Man', 5: 'The Archer', 6: 'I Think He Knows', 7: 'Miss Americana & The Heartbreak Prince', 8: 'Paper Rings', 9: 'Cornelia Street', 10: 'Death By A Thousand Cuts', 11: 'London Boy', 12: \"Soon You'll Get Better (feat. Dixie Chicks)\", 13: 'False God', 14: 'You Need To Calm Down', 15: 'Afterglow', 16: 'Me! (feat. Brendon Urie of Panic! At The Disco)', 17: \"It's Nice To Have A Friend\", 18: 'Daylight'}, 'producer': {'Frank Dukes', 'Louis Bell', 'Taylor Swift', 'Jack Antonoff', 'Joel Little'}}\n"
     ]
    }
   ],
   "source": [
    "lover_album[\"producer\"] = set(['Taylor Swift', 'Jack Antonoff', 'Joel Little', 'Taylor Swift', 'Louis Bell', 'Frank Dukes'])\n",
    "\n",
    "# What can you change to make sure there are no duplicate producers?\n",
    "# Make it a set by adding set and parenthesis \n",
    "#\n",
    "\n",
    "# Printing the dictionary\n",
    "print(lover_album)"
   ]
  },
  {
   "cell_type": "code",
   "execution_count": 7,
   "metadata": {},
   "outputs": [
    {
     "name": "stdout",
     "output_type": "stream",
     "text": [
      "{'title': 'Lover', 'artist': 'Taylor Swift', 'year': 2019, 'genre': ['Pop', 'Synth-pop'], 'tracks': {1: 'I Forgot That You Existed', 2: 'Cruel Summer', 3: 'Lover', 4: 'The Man', 5: 'The Archer', 6: 'I Think He Knows', 7: 'Miss Americana & The Heartbreak Prince', 8: 'Paper Rings', 9: 'Cornelia Street', 10: 'Death By A Thousand Cuts', 11: 'London Boy', 12: \"Soon You'll Get Better (feat. Dixie Chicks)\", 13: 'False God', 14: 'You Need To Calm Down', 15: 'Afterglow', 16: 'Me! (feat. Brendon Urie of Panic! At The Disco)', 17: \"It's Nice To Have A Friend\", 18: 'Daylight', 19: 'All Of The Girls You Loved Before'}, 'producer': {'Frank Dukes', 'Louis Bell', 'Taylor Swift', 'Jack Antonoff', 'Joel Little'}}\n"
     ]
    }
   ],
   "source": [
    "lover_album[\"tracks\"].update({19: \"All Of The Girls You Loved Before\"})\n",
    "\n",
    "# How would add an additional genre to the dictionary, like electropop? \n",
    "# Change tracks to genre and what number genre it is and put \"electropop\" instead of \"All Of The Girls You Loved Before\".\n",
    "# \n",
    "\n",
    "# Printing the dictionary\n",
    "print(lover_album)"
   ]
  },
  {
   "cell_type": "code",
   "execution_count": 8,
   "metadata": {},
   "outputs": [
    {
     "name": "stdout",
     "output_type": "stream",
     "text": [
      "title: Lover\n",
      "artist: Taylor Swift\n",
      "year: 2019\n",
      "genre: ['Pop', 'Synth-pop']\n",
      "tracks: {1: 'I Forgot That You Existed', 2: 'Cruel Summer', 3: 'Lover', 4: 'The Man', 5: 'The Archer', 6: 'I Think He Knows', 7: 'Miss Americana & The Heartbreak Prince', 8: 'Paper Rings', 9: 'Cornelia Street', 10: 'Death By A Thousand Cuts', 11: 'London Boy', 12: \"Soon You'll Get Better (feat. Dixie Chicks)\", 13: 'False God', 14: 'You Need To Calm Down', 15: 'Afterglow', 16: 'Me! (feat. Brendon Urie of Panic! At The Disco)', 17: \"It's Nice To Have A Friend\", 18: 'Daylight', 19: 'All Of The Girls You Loved Before'}\n",
      "producer: {'Frank Dukes', 'Louis Bell', 'Taylor Swift', 'Jack Antonoff', 'Joel Little'}\n"
     ]
    }
   ],
   "source": [
    "for k,v in lover_album.items(): # iterate using a for loop for key and value\n",
    "    print(str(k) + \": \" + str(v))\n",
    "\n",
    "# Write your own code to print tracks in readable format\n",
    "#\n",
    "#\n"
   ]
  },
  {
   "cell_type": "code",
   "execution_count": 22,
   "metadata": {},
   "outputs": [
    {
     "name": "stdout",
     "output_type": "stream",
     "text": [
      "{'Frank Dukes', 'Louis Bell', 'Taylor Swift', 'Jack Antonoff', 'Joel Little'}\n"
     ]
    }
   ],
   "source": [
    "def search():\n",
    "    search = input(\"What would you like to know about the album?\")\n",
    "    if lover_album.get(search.lower()) == None:\n",
    "        print(\"Invalid Search\")\n",
    "    else:\n",
    "        print(lover_album.get(search.lower()))\n",
    "\n",
    "search()\n",
    "\n",
    "# This is a very basic code segment, how can you improve upon this code?\n",
    "# \n",
    "#"
   ]
  },
  {
   "attachments": {},
   "cell_type": "markdown",
   "metadata": {},
   "source": [
    "## Hacks\n",
    "\n",
    "- Answer *ALL* questions in the code segments\n",
    "- Create a venn diagram or other compare and contrast tool related to hashmaps.\n",
    "    - What are the pro and cons of using this data structure? \n",
    "    - Dictionary vs List    \n",
    "- Expand upon the code given to you, possible improvements in comments\n",
    "- Build your own album showing features of a python dictionary\n",
    "\n",
    "- For Mr. Yeung's class: Justify your favorite Taylor Swift song, answer may effect seed"
   ]
  },
  {
   "cell_type": "code",
   "execution_count": 24,
   "metadata": {},
   "outputs": [
    {
     "name": "stdout",
     "output_type": "stream",
     "text": [
      "{'title': 'Savage Mode II', 'artist': '21 Savage', 'year': 2020, 'genre': ['Rap', 'Murder Music'], 'tracks': {1: 'Intro', 2: 'Runnin', 3: 'Glock in My Lap', 4: 'Mr. Right Now', 5: 'Rich Nigga Shit', 6: 'Slidin', 7: 'Many Man', 8: 'Snitches & Rats', 9: 'My Dawg', 10: 'Steppin on Niggas', 11: 'Brand New Draco', 12: 'No Opp Left Behind', 13: 'RIP Luv'}}\n"
     ]
    }
   ],
   "source": [
    "\n",
    "\n",
    "SavageMode2_album = {\n",
    "    \"title\": \"Savage Mode II\",\n",
    "    \"artist\": \"21 Savage\",\n",
    "    \"year\": 2020,\n",
    "    \"genre\": [\"Rap\", \"Murder Music\"],\n",
    "    \"tracks\": {\n",
    "         1: \"Intro\",\n",
    "        2: \"Runnin\",\n",
    "        3: \"Glock in My Lap\",\n",
    "        4: \"Mr. Right Now\",\n",
    "        5: \"Rich Nigga Shit\",\n",
    "        6: \"Slidin\",\n",
    "        7: \"Many Man\",\n",
    "        8: \"Snitches & Rats\",\n",
    "        9: \"My Dawg\",\n",
    "        10: \"Steppin on Niggas\",\n",
    "        11: \"Brand New Draco\",\n",
    "        12: \"No Opp Left Behind\",\n",
    "        13: \"RIP Luv\"\n",
    "    }\n",
    "}\n",
    "\n",
    "print(SavageMode2_album)\n"
   ]
  },
  {
   "cell_type": "code",
   "execution_count": 29,
   "metadata": {},
   "outputs": [
    {
     "name": "stdout",
     "output_type": "stream",
     "text": [
      "The length of song 5 is 3:07.\n"
     ]
    }
   ],
   "source": [
    "SavageMode2_album = {\n",
    "    \"title\": \"Savage Mode II\",\n",
    "    \"artist\": \"21 Savage\",\n",
    "    \"year\": 2020,\n",
    "    \"genre\": [\"Rap\", \"Murder Music\"],\n",
    "    \"tracks\": {\n",
    "        1: \"Intro\",\n",
    "        2: \"Runnin\",\n",
    "        3: \"Glock in My Lap\",\n",
    "        4: \"Mr. Right Now\",\n",
    "        5: \"Rich Nigga Shit\",\n",
    "        6: \"Slidin\",\n",
    "        7: \"Many Man\",\n",
    "        8: \"Snitches & Rats\",\n",
    "        9: \"My Dawg\",\n",
    "        10: \"Steppin on Niggas\",\n",
    "        11: \"Brand New Draco\",\n",
    "        12: \"No Opp Left Behind\",\n",
    "        13: \"RIP Luv\"\n",
    "    },\n",
    "    \"song_lengths\": {\n",
    "        1: \"2:12\",\n",
    "        2: \"3:16\",\n",
    "        3: \"2:59\",\n",
    "        4: \"4:08\",\n",
    "        5: \"3:07\",\n",
    "        6: \"3:09\",\n",
    "        7: \"3:09\",\n",
    "        8: \"2:56\",\n",
    "        9: \"3:27\",\n",
    "        10: \"2:27\",\n",
    "        11: \"2:59\",\n",
    "        12: \"3:05\",\n",
    "        13: \"4:13\"\n",
    "    }\n",
    "}\n",
    "\n",
    "def get_song_length(song_number):\n",
    "    return SavageMode2_album[\"song_lengths\"][song_number]\n",
    "\n",
    "# Example usage\n",
    "song_number = 5\n",
    "length = get_song_length(song_number)\n",
    "print(f\"The length of song {song_number} is {length}.\")\n"
   ]
  },
  {
   "cell_type": "code",
   "execution_count": 16,
   "metadata": {},
   "outputs": [
    {
     "name": "stdout",
     "output_type": "stream",
     "text": [
      "{1: 'Intro', 2: 'Runnin', 3: 'Glock in My Lap', 4: 'Mr. Right Now', 5: 'Rich Nigga Shit', 6: 'Slidin', 7: 'Many Man', 8: 'Snitches & Rats', 9: 'My Dawg', 10: 'Steppin on Niggas', 11: 'Brand New Draco', 12: 'No Opp Left Behind', 13: 'RIP Luv'}\n",
      "{1: 'Intro', 2: 'Runnin', 3: 'Glock in My Lap', 4: 'Mr. Right Now', 5: 'Rich Nigga Shit', 6: 'Slidin', 7: 'Many Man', 8: 'Snitches & Rats', 9: 'My Dawg', 10: 'Steppin on Niggas', 11: 'Brand New Draco', 12: 'No Opp Left Behind', 13: 'RIP Luv'}\n"
     ]
    }
   ],
   "source": [
    "print(SavageMode2_album.get('tracks'))\n",
    "# or\n",
    "print(SavageMode2_album['tracks'])"
   ]
  },
  {
   "cell_type": "code",
   "execution_count": 17,
   "metadata": {},
   "outputs": [
    {
     "name": "stdout",
     "output_type": "stream",
     "text": [
      "Glock in My Lap\n",
      "Glock in My Lap\n"
     ]
    }
   ],
   "source": [
    "print(SavageMode2_album.get('tracks')[3])\n",
    "# or\n",
    "print(SavageMode2_album['tracks'][3])"
   ]
  },
  {
   "cell_type": "code",
   "execution_count": 18,
   "metadata": {},
   "outputs": [
    {
     "name": "stdout",
     "output_type": "stream",
     "text": [
      "{'title': 'Savage Mode II', 'artist': '21 Savage', 'year': 2020, 'genre': ['Rap', 'Murder Music'], 'tracks': {1: 'Intro', 2: 'Runnin', 3: 'Glock in My Lap', 4: 'Mr. Right Now', 5: 'Rich Nigga Shit', 6: 'Slidin', 7: 'Many Man', 8: 'Snitches & Rats', 9: 'My Dawg', 10: 'Steppin on Niggas', 11: 'Brand New Draco', 12: 'No Opp Left Behind', 13: 'RIP Luv'}, 'producer': {'Southside', 'Metro Boomin', 'Carlton Mays, Jr.', 'Oz Iskander 40'}}\n"
     ]
    }
   ],
   "source": [
    "SavageMode2_album[\"producer\"] = set(['Metro Boomin', 'Southside', 'Carlton Mays, Jr.', 'Oz Iskander 40'])\n",
    "# What can you change to make sure there are no duplicate producers?\n",
    "# Make it a set by adding set and parenthesis \n",
    "#\n",
    "\n",
    "# Printing the dictionary\n",
    "print(SavageMode2_album)"
   ]
  },
  {
   "cell_type": "code",
   "execution_count": 19,
   "metadata": {},
   "outputs": [
    {
     "name": "stdout",
     "output_type": "stream",
     "text": [
      "{'title': 'Savage Mode II', 'artist': '21 Savage', 'year': 2020, 'genre': ['Rap', 'Murder Music'], 'tracks': {1: 'Intro', 2: 'Runnin', 3: 'Glock in My Lap', 4: 'Mr. Right Now', 5: 'Rich Nigga Shit', 6: 'Slidin', 7: 'Many Man', 8: 'Snitches & Rats', 9: 'My Dawg', 10: 'Steppin on Niggas', 11: 'Brand New Draco', 12: 'No Opp Left Behind', 13: 'RIP Luv', 14: 'Said N Done'}, 'producer': {'Southside', 'Metro Boomin', 'Carlton Mays, Jr.', 'Oz Iskander 40'}}\n"
     ]
    }
   ],
   "source": [
    "SavageMode2_album[\"tracks\"].update({14: \"Said N Done\"})\n",
    "\n",
    "# How would add an additional genre to the dictionary, like electropop? \n",
    "# Change tracks to genre and what number genre it is and put \"electropop\" instead of \"All Of The Girls You Loved Before\".\n",
    "# \n",
    "\n",
    "# Printing the dictionary\n",
    "print(SavageMode2_album)"
   ]
  },
  {
   "cell_type": "code",
   "execution_count": 30,
   "metadata": {},
   "outputs": [
    {
     "name": "stdout",
     "output_type": "stream",
     "text": [
      "title: Savage Mode II\n",
      "artist: 21 Savage\n",
      "year: 2020\n",
      "genre: ['Rap', 'Murder Music']\n",
      "tracks: {1: 'Intro', 2: 'Runnin', 3: 'Glock in My Lap', 4: 'Mr. Right Now', 5: 'Rich Nigga Shit', 6: 'Slidin', 7: 'Many Man', 8: 'Snitches & Rats', 9: 'My Dawg', 10: 'Steppin on Niggas', 11: 'Brand New Draco', 12: 'No Opp Left Behind', 13: 'RIP Luv'}\n",
      "song_lengths: {1: '2:12', 2: '3:16', 3: '2:59', 4: '4:08', 5: '3:07', 6: '3:09', 7: '3:09', 8: '2:56', 9: '3:27', 10: '2:27', 11: '2:59', 12: '3:05', 13: '4:13'}\n"
     ]
    }
   ],
   "source": [
    "for k,v in SavageMode2_album.items(): # iterate using a for loop for key and value\n",
    "    print(str(k) + \": \" + str(v))\n",
    "\n",
    "# Write your own code to print tracks in readable format\n",
    "#\n",
    "#"
   ]
  },
  {
   "cell_type": "code",
   "execution_count": 32,
   "metadata": {},
   "outputs": [
    {
     "name": "stdout",
     "output_type": "stream",
     "text": [
      "['Rap', 'Murder Music']\n"
     ]
    }
   ],
   "source": [
    "def search():\n",
    "    search = input(\"What would you like to know about the album?\")\n",
    "    if SavageMode2_album.get(search.lower()) == None:\n",
    "        print(\"Invalid Search\")\n",
    "    else:\n",
    "        print(SavageMode2_album.get(search.lower()))\n",
    "\n",
    "search()\n",
    "\n",
    "# This is a very basic code segment, how can you improve upon this code?\n",
    "# \n",
    "#"
   ]
  }
 ],
 "metadata": {
  "kernelspec": {
   "display_name": "base",
   "language": "python",
   "name": "python3"
  },
  "language_info": {
   "codemirror_mode": {
    "name": "ipython",
    "version": 3
   },
   "file_extension": ".py",
   "mimetype": "text/x-python",
   "name": "python",
   "nbconvert_exporter": "python",
   "pygments_lexer": "ipython3",
   "version": "3.9.13"
  },
  "orig_nbformat": 4
 },
 "nbformat": 4,
 "nbformat_minor": 2
}
