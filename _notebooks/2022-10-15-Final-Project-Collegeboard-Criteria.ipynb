{
 "cells": [
  {
   "cell_type": "markdown",
   "metadata": {},
   "source": [
    "# College Board Criteria for Final Project\n",
    "\n",
    "> Code.\n",
    "\n",
    "- toc: true\n",
    "- badges: true\n",
    "- comments: true\n",
    "- categories: [jupyter]\n",
    "- image: images/chart-preview.png"
   ]
  },
  {
   "cell_type": "markdown",
   "metadata": {},
   "source": [
    "Program Purpose and Function: To assist in learning more about NBA data, we will create a website that makes it seemless as well as include games within the website to guiz the users.\n",
    "\n",
    "Data Abstraction: Collect data from varoius existing NBA databases\n",
    "\n",
    "Managing Complexity: Use a list with various NBA data(PPG,APG,Accolade counts) and use a list to track it\n",
    "\n",
    "Procedural Abstraction: will define our own funtions for formatting the page and displaying the data\n",
    "\n",
    "Algorithm Implementation: will use iteration (lists for each funtion) and selection (if/else statements) and sequencing (step by step processes)\n",
    "\n",
    "Testing: We will test every aspect of our project (and often) to ensure we identify and correct our mistakes."
   ]
  }
 ],
 "metadata": {
  "kernelspec": {
   "display_name": "JavaScript (Node.js)",
   "language": "javascript",
   "name": "javascript"
  },
  "language_info": {
   "file_extension": ".js",
   "mimetype": "application/javascript",
   "name": "javascript",
   "version": "10.13.0"
  },
  "orig_nbformat": 4,
  "vscode": {
   "interpreter": {
    "hash": "aee8b7b246df8f9039afb4144a1f6fd8d2ca17a180786b69acc140d282b71a49"
   }
  }
 },
 "nbformat": 4,
 "nbformat_minor": 2
}
