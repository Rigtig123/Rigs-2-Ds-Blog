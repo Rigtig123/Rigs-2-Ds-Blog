{
 "cells": [
  {
   "cell_type": "markdown",
   "metadata": {},
   "source": [
    "# Notes for Video on a Happy Life\n",
    "> Code.\n",
    "\n",
    "- toc: true \n",
    "- badges: true\n",
    "- comments: true\n",
    "- categories: [jupyter]\n",
    "- image: images/chart-preview.png"
   ]
  },
  {
   "cell_type": "markdown",
   "metadata": {},
   "source": [
    "I watched the video and there were a lot of clear talking points that I could take away from and learn. The first thing I realized that I had to do was to focus onreducing academic stress on myself. I should use resources like peers and teachers to help better myself and ask for help. I also need to form habits that I can carry with me later on in life because jsut because I am getting through now with my habits, does not mean I can't improve. I also need to have the right attitude which ishaving a growth mindset. Ms Naidu says the biggest problem at Del Norte is collaboration because there are many kids who work hard and are commmitted. It could be way easier however, if they just talked. \n"
   ]
  }
 ],
 "metadata": {
  "kernelspec": {
   "display_name": "Python 3.10.7 64-bit",
   "language": "python",
   "name": "python3"
  },
  "language_info": {
   "name": "python",
   "version": "3.10.7"
  },
  "orig_nbformat": 4,
  "vscode": {
   "interpreter": {
    "hash": "aee8b7b246df8f9039afb4144a1f6fd8d2ca17a180786b69acc140d282b71a49"
   }
  }
 },
 "nbformat": 4,
 "nbformat_minor": 2
}
